{
 "cells": [
  {
   "cell_type": "markdown",
   "id": "75e2ef28-594f-4c18-9d22-c6b8cd40ead2",
   "metadata": {},
   "source": [
    "# Day 3 - Conversational AI - aka Chatbot!"
   ]
  },
  {
   "cell_type": "code",
   "execution_count": 1,
   "id": "70e39cd8-ec79-4e3e-9c26-5659d42d0861",
   "metadata": {
    "execution": {
     "iopub.execute_input": "2025-10-17T20:58:17.950214Z",
     "iopub.status.busy": "2025-10-17T20:58:17.949493Z",
     "iopub.status.idle": "2025-10-17T20:58:19.504422Z",
     "shell.execute_reply": "2025-10-17T20:58:19.504175Z",
     "shell.execute_reply.started": "2025-10-17T20:58:17.950157Z"
    }
   },
   "outputs": [],
   "source": [
    "# imports\n",
    "\n",
    "import os\n",
    "from dotenv import load_dotenv\n",
    "from openai import OpenAI\n",
    "import gradio as gr"
   ]
  },
  {
   "cell_type": "code",
   "execution_count": 2,
   "id": "231605aa-fccb-447e-89cf-8b187444536a",
   "metadata": {
    "execution": {
     "iopub.execute_input": "2025-10-17T20:58:28.183248Z",
     "iopub.status.busy": "2025-10-17T20:58:28.182353Z",
     "iopub.status.idle": "2025-10-17T20:58:28.190924Z",
     "shell.execute_reply": "2025-10-17T20:58:28.190381Z",
     "shell.execute_reply.started": "2025-10-17T20:58:28.183219Z"
    }
   },
   "outputs": [
    {
     "name": "stdout",
     "output_type": "stream",
     "text": [
      "OpenAI API Key exists and begins sk-proj-\n"
     ]
    }
   ],
   "source": [
    "# Load environment variables in a file called .env\n",
    "# Print the key prefixes to help with any debugging\n",
    "\n",
    "load_dotenv(override=True)\n",
    "openai_api_key = os.getenv('OPENAI_API_KEY')\n",
    "\n",
    "if openai_api_key:\n",
    "    print(f\"OpenAI API Key exists and begins {openai_api_key[:8]}\")\n",
    "else:\n",
    "    print(\"OpenAI API Key not set\")"
   ]
  },
  {
   "cell_type": "code",
   "execution_count": 3,
   "id": "6541d58e-2297-4de1-b1f7-77da1b98b8bb",
   "metadata": {
    "execution": {
     "iopub.execute_input": "2025-10-17T20:58:31.446068Z",
     "iopub.status.busy": "2025-10-17T20:58:31.445637Z",
     "iopub.status.idle": "2025-10-17T20:58:31.461921Z",
     "shell.execute_reply": "2025-10-17T20:58:31.461312Z",
     "shell.execute_reply.started": "2025-10-17T20:58:31.446043Z"
    }
   },
   "outputs": [],
   "source": [
    "# Initialize\n",
    "\n",
    "openai = OpenAI()\n",
    "MODEL = 'gpt-4.1-mini'"
   ]
  },
  {
   "cell_type": "code",
   "execution_count": 4,
   "id": "e16839b5-c03b-4d9d-add6-87a0f6f37575",
   "metadata": {
    "execution": {
     "iopub.execute_input": "2025-10-17T20:58:35.535473Z",
     "iopub.status.busy": "2025-10-17T20:58:35.534884Z",
     "iopub.status.idle": "2025-10-17T20:58:35.539671Z",
     "shell.execute_reply": "2025-10-17T20:58:35.539092Z",
     "shell.execute_reply.started": "2025-10-17T20:58:35.535433Z"
    }
   },
   "outputs": [],
   "source": [
    "# Again, I'll be in scientist-mode and change this global during the lab\n",
    "\n",
    "system_message = \"You are a helpful assistant\""
   ]
  },
  {
   "cell_type": "markdown",
   "id": "98e97227-f162-4d1a-a0b2-345ff248cbe7",
   "metadata": {},
   "source": [
    "## And now, writing a new callback\n",
    "\n",
    "We now need to write a function called:\n",
    "\n",
    "`chat(message, history)`\n",
    "\n",
    "Which will be a callback function we will give gradio.\n",
    "\n",
    "### The job of this function\n",
    "\n",
    "Take a message, take the prior conversation, and return the response.\n"
   ]
  },
  {
   "cell_type": "code",
   "execution_count": 5,
   "id": "354ce793",
   "metadata": {
    "execution": {
     "iopub.execute_input": "2025-10-17T20:59:32.340009Z",
     "iopub.status.busy": "2025-10-17T20:59:32.339530Z",
     "iopub.status.idle": "2025-10-17T20:59:32.346551Z",
     "shell.execute_reply": "2025-10-17T20:59:32.342891Z",
     "shell.execute_reply.started": "2025-10-17T20:59:32.339985Z"
    }
   },
   "outputs": [],
   "source": [
    "def chat(message, history):\n",
    "    return \"bananas\""
   ]
  },
  {
   "cell_type": "code",
   "execution_count": 6,
   "id": "e87f3417",
   "metadata": {
    "execution": {
     "iopub.execute_input": "2025-10-17T20:59:43.204921Z",
     "iopub.status.busy": "2025-10-17T20:59:43.204185Z",
     "iopub.status.idle": "2025-10-17T20:59:43.424422Z",
     "shell.execute_reply": "2025-10-17T20:59:43.424007Z",
     "shell.execute_reply.started": "2025-10-17T20:59:43.204885Z"
    }
   },
   "outputs": [
    {
     "name": "stdout",
     "output_type": "stream",
     "text": [
      "* Running on local URL:  http://127.0.0.1:7875\n",
      "* To create a public link, set `share=True` in `launch()`.\n"
     ]
    },
    {
     "data": {
      "text/html": [
       "<div><iframe src=\"http://127.0.0.1:7875/\" width=\"100%\" height=\"500\" allow=\"autoplay; camera; microphone; clipboard-read; clipboard-write;\" frameborder=\"0\" allowfullscreen></iframe></div>"
      ],
      "text/plain": [
       "<IPython.core.display.HTML object>"
      ]
     },
     "metadata": {},
     "output_type": "display_data"
    },
    {
     "data": {
      "text/plain": []
     },
     "execution_count": 6,
     "metadata": {},
     "output_type": "execute_result"
    }
   ],
   "source": [
    "gr.ChatInterface(fn=chat, type=\"messages\").launch()"
   ]
  },
  {
   "cell_type": "code",
   "execution_count": 7,
   "id": "5d4996e8",
   "metadata": {
    "execution": {
     "iopub.execute_input": "2025-10-17T21:00:34.158533Z",
     "iopub.status.busy": "2025-10-17T21:00:34.157542Z",
     "iopub.status.idle": "2025-10-17T21:00:34.162472Z",
     "shell.execute_reply": "2025-10-17T21:00:34.161887Z",
     "shell.execute_reply.started": "2025-10-17T21:00:34.158501Z"
    }
   },
   "outputs": [],
   "source": [
    "def chat(message, history):\n",
    "    return f\"You said {message} and the history is {history} but I still say bananas\""
   ]
  },
  {
   "cell_type": "code",
   "execution_count": 8,
   "id": "434a0417",
   "metadata": {
    "execution": {
     "iopub.execute_input": "2025-10-17T21:00:36.019052Z",
     "iopub.status.busy": "2025-10-17T21:00:36.018606Z",
     "iopub.status.idle": "2025-10-17T21:00:36.170131Z",
     "shell.execute_reply": "2025-10-17T21:00:36.169836Z",
     "shell.execute_reply.started": "2025-10-17T21:00:36.019026Z"
    }
   },
   "outputs": [
    {
     "name": "stdout",
     "output_type": "stream",
     "text": [
      "* Running on local URL:  http://127.0.0.1:7876\n",
      "* To create a public link, set `share=True` in `launch()`.\n"
     ]
    },
    {
     "data": {
      "text/html": [
       "<div><iframe src=\"http://127.0.0.1:7876/\" width=\"100%\" height=\"500\" allow=\"autoplay; camera; microphone; clipboard-read; clipboard-write;\" frameborder=\"0\" allowfullscreen></iframe></div>"
      ],
      "text/plain": [
       "<IPython.core.display.HTML object>"
      ]
     },
     "metadata": {},
     "output_type": "display_data"
    },
    {
     "data": {
      "text/plain": []
     },
     "execution_count": 8,
     "metadata": {},
     "output_type": "execute_result"
    }
   ],
   "source": [
    "gr.ChatInterface(fn=chat, type=\"messages\").launch()"
   ]
  },
  {
   "cell_type": "code",
   "execution_count": null,
   "id": "7890cac3",
   "metadata": {},
   "outputs": [],
   "source": []
  },
  {
   "cell_type": "markdown",
   "id": "f7330d7f",
   "metadata": {},
   "source": [
    "## OK! Let's write a slightly better chat callback!"
   ]
  },
  {
   "cell_type": "code",
   "execution_count": 9,
   "id": "1eacc8a4-4b48-4358-9e06-ce0020041bc1",
   "metadata": {
    "execution": {
     "iopub.execute_input": "2025-10-17T21:02:57.926460Z",
     "iopub.status.busy": "2025-10-17T21:02:57.925898Z",
     "iopub.status.idle": "2025-10-17T21:02:57.931189Z",
     "shell.execute_reply": "2025-10-17T21:02:57.930613Z",
     "shell.execute_reply.started": "2025-10-17T21:02:57.926401Z"
    }
   },
   "outputs": [],
   "source": [
    "\n",
    "def chat(message, history):\n",
    "    history = [{\"role\":h[\"role\"], \"content\":h[\"content\"]} for h in history]\n",
    "    messages = [{\"role\": \"system\", \"content\": system_message}] + history + [{\"role\": \"user\", \"content\": message}]\n",
    "    response = openai.chat.completions.create(model=MODEL, messages=messages)\n",
    "    return response.choices[0].message.content\n"
   ]
  },
  {
   "cell_type": "code",
   "execution_count": 10,
   "id": "0ab706f9",
   "metadata": {
    "execution": {
     "iopub.execute_input": "2025-10-17T21:03:01.013686Z",
     "iopub.status.busy": "2025-10-17T21:03:01.013141Z",
     "iopub.status.idle": "2025-10-17T21:03:01.206445Z",
     "shell.execute_reply": "2025-10-17T21:03:01.206150Z",
     "shell.execute_reply.started": "2025-10-17T21:03:01.013660Z"
    }
   },
   "outputs": [
    {
     "name": "stdout",
     "output_type": "stream",
     "text": [
      "* Running on local URL:  http://127.0.0.1:7877\n",
      "* To create a public link, set `share=True` in `launch()`.\n"
     ]
    },
    {
     "data": {
      "text/html": [
       "<div><iframe src=\"http://127.0.0.1:7877/\" width=\"100%\" height=\"500\" allow=\"autoplay; camera; microphone; clipboard-read; clipboard-write;\" frameborder=\"0\" allowfullscreen></iframe></div>"
      ],
      "text/plain": [
       "<IPython.core.display.HTML object>"
      ]
     },
     "metadata": {},
     "output_type": "display_data"
    },
    {
     "data": {
      "text/plain": []
     },
     "execution_count": 10,
     "metadata": {},
     "output_type": "execute_result"
    }
   ],
   "source": [
    "gr.ChatInterface(fn=chat, type=\"messages\").launch()"
   ]
  },
  {
   "cell_type": "code",
   "execution_count": 11,
   "id": "3bce145a",
   "metadata": {
    "execution": {
     "iopub.execute_input": "2025-10-17T21:05:06.500513Z",
     "iopub.status.busy": "2025-10-17T21:05:06.500102Z",
     "iopub.status.idle": "2025-10-17T21:05:06.506200Z",
     "shell.execute_reply": "2025-10-17T21:05:06.505572Z",
     "shell.execute_reply.started": "2025-10-17T21:05:06.500489Z"
    }
   },
   "outputs": [],
   "source": [
    "def chat(message, history):\n",
    "    history = [{\"role\":h[\"role\"], \"content\":h[\"content\"]} for h in history]\n",
    "    messages = [{\"role\": \"system\", \"content\": system_message}] + history + [{\"role\": \"user\", \"content\": message}]\n",
    "    stream = openai.chat.completions.create(model=MODEL, messages=messages, stream=True)\n",
    "    response = \"\"\n",
    "    for chunk in stream:\n",
    "        response += chunk.choices[0].delta.content or ''\n",
    "        yield response"
   ]
  },
  {
   "cell_type": "code",
   "execution_count": 12,
   "id": "b8beeca6",
   "metadata": {
    "execution": {
     "iopub.execute_input": "2025-10-17T21:05:09.637081Z",
     "iopub.status.busy": "2025-10-17T21:05:09.636652Z",
     "iopub.status.idle": "2025-10-17T21:05:09.781472Z",
     "shell.execute_reply": "2025-10-17T21:05:09.781231Z",
     "shell.execute_reply.started": "2025-10-17T21:05:09.637056Z"
    }
   },
   "outputs": [
    {
     "name": "stdout",
     "output_type": "stream",
     "text": [
      "* Running on local URL:  http://127.0.0.1:7878\n",
      "* To create a public link, set `share=True` in `launch()`.\n"
     ]
    },
    {
     "data": {
      "text/html": [
       "<div><iframe src=\"http://127.0.0.1:7878/\" width=\"100%\" height=\"500\" allow=\"autoplay; camera; microphone; clipboard-read; clipboard-write;\" frameborder=\"0\" allowfullscreen></iframe></div>"
      ],
      "text/plain": [
       "<IPython.core.display.HTML object>"
      ]
     },
     "metadata": {},
     "output_type": "display_data"
    },
    {
     "data": {
      "text/plain": []
     },
     "execution_count": 12,
     "metadata": {},
     "output_type": "execute_result"
    }
   ],
   "source": [
    "gr.ChatInterface(fn=chat, type=\"messages\").launch()"
   ]
  },
  {
   "cell_type": "markdown",
   "id": "1334422a-808f-4147-9c4c-57d63d9780d0",
   "metadata": {},
   "source": [
    "## OK let's keep going!\n",
    "\n",
    "Using a system message to add context, and to give an example answer.. this is \"one shot prompting\" again"
   ]
  },
  {
   "cell_type": "code",
   "execution_count": 13,
   "id": "1f91b414-8bab-472d-b9c9-3fa51259bdfe",
   "metadata": {
    "execution": {
     "iopub.execute_input": "2025-10-17T21:07:44.265515Z",
     "iopub.status.busy": "2025-10-17T21:07:44.265023Z",
     "iopub.status.idle": "2025-10-17T21:07:44.269184Z",
     "shell.execute_reply": "2025-10-17T21:07:44.268634Z",
     "shell.execute_reply.started": "2025-10-17T21:07:44.265485Z"
    }
   },
   "outputs": [],
   "source": [
    "system_message = \"You are a helpful assistant in a clothes store. You should try to gently encourage \\\n",
    "the customer to try items that are on sale. Hats are 60% off, and most other items are 50% off. \\\n",
    "For example, if the customer says 'I'm looking to buy a hat', \\\n",
    "you could reply something like, 'Wonderful - we have lots of hats - including several that are part of our sales event.'\\\n",
    "Encourage the customer to buy hats if they are unsure what to get.\""
   ]
  },
  {
   "cell_type": "code",
   "execution_count": 14,
   "id": "413e9e4e-7836-43ac-a0c3-e1ab5ed6b136",
   "metadata": {
    "execution": {
     "iopub.execute_input": "2025-10-17T21:08:26.157375Z",
     "iopub.status.busy": "2025-10-17T21:08:26.156824Z",
     "iopub.status.idle": "2025-10-17T21:08:26.362780Z",
     "shell.execute_reply": "2025-10-17T21:08:26.362498Z",
     "shell.execute_reply.started": "2025-10-17T21:08:26.157337Z"
    }
   },
   "outputs": [
    {
     "name": "stdout",
     "output_type": "stream",
     "text": [
      "* Running on local URL:  http://127.0.0.1:7879\n",
      "* To create a public link, set `share=True` in `launch()`.\n"
     ]
    },
    {
     "data": {
      "text/html": [
       "<div><iframe src=\"http://127.0.0.1:7879/\" width=\"100%\" height=\"500\" allow=\"autoplay; camera; microphone; clipboard-read; clipboard-write;\" frameborder=\"0\" allowfullscreen></iframe></div>"
      ],
      "text/plain": [
       "<IPython.core.display.HTML object>"
      ]
     },
     "metadata": {},
     "output_type": "display_data"
    },
    {
     "data": {
      "text/plain": []
     },
     "execution_count": 14,
     "metadata": {},
     "output_type": "execute_result"
    }
   ],
   "source": [
    "gr.ChatInterface(fn=chat, type=\"messages\").launch()"
   ]
  },
  {
   "cell_type": "code",
   "execution_count": 15,
   "id": "d75f0ffa-55c8-4152-b451-945021676837",
   "metadata": {
    "execution": {
     "iopub.execute_input": "2025-10-17T21:09:13.854493Z",
     "iopub.status.busy": "2025-10-17T21:09:13.853837Z",
     "iopub.status.idle": "2025-10-17T21:09:13.859882Z",
     "shell.execute_reply": "2025-10-17T21:09:13.858792Z",
     "shell.execute_reply.started": "2025-10-17T21:09:13.854446Z"
    }
   },
   "outputs": [],
   "source": [
    "system_message += \"\\nIf the customer asks for shoes, you should respond that shoes are not on sale today, \\\n",
    "but remind the customer to look at hats!\""
   ]
  },
  {
   "cell_type": "code",
   "execution_count": 16,
   "id": "c602a8dd-2df7-4eb7-b539-4e01865a6351",
   "metadata": {
    "execution": {
     "iopub.execute_input": "2025-10-17T21:09:18.640509Z",
     "iopub.status.busy": "2025-10-17T21:09:18.640041Z",
     "iopub.status.idle": "2025-10-17T21:09:18.782025Z",
     "shell.execute_reply": "2025-10-17T21:09:18.781785Z",
     "shell.execute_reply.started": "2025-10-17T21:09:18.640482Z"
    }
   },
   "outputs": [
    {
     "name": "stdout",
     "output_type": "stream",
     "text": [
      "* Running on local URL:  http://127.0.0.1:7880\n",
      "* To create a public link, set `share=True` in `launch()`.\n"
     ]
    },
    {
     "data": {
      "text/html": [
       "<div><iframe src=\"http://127.0.0.1:7880/\" width=\"100%\" height=\"500\" allow=\"autoplay; camera; microphone; clipboard-read; clipboard-write;\" frameborder=\"0\" allowfullscreen></iframe></div>"
      ],
      "text/plain": [
       "<IPython.core.display.HTML object>"
      ]
     },
     "metadata": {},
     "output_type": "display_data"
    },
    {
     "data": {
      "text/plain": []
     },
     "execution_count": 16,
     "metadata": {},
     "output_type": "execute_result"
    }
   ],
   "source": [
    "gr.ChatInterface(fn=chat, type=\"messages\").launch()"
   ]
  },
  {
   "cell_type": "code",
   "execution_count": 17,
   "id": "0a987a66-1061-46d6-a83a-a30859dc88bf",
   "metadata": {
    "execution": {
     "iopub.execute_input": "2025-10-17T21:11:46.766719Z",
     "iopub.status.busy": "2025-10-17T21:11:46.766299Z",
     "iopub.status.idle": "2025-10-17T21:11:46.773440Z",
     "shell.execute_reply": "2025-10-17T21:11:46.772636Z",
     "shell.execute_reply.started": "2025-10-17T21:11:46.766695Z"
    }
   },
   "outputs": [],
   "source": [
    "\n",
    "def chat(message, history):\n",
    "    history = [{\"role\":h[\"role\"], \"content\":h[\"content\"]} for h in history]\n",
    "    relevant_system_message = system_message\n",
    "    if 'belt' in message.lower():\n",
    "        relevant_system_message += \" The store does not sell belts; if you are asked for belts, be sure to point out other items on sale.\"\n",
    "    \n",
    "    messages = [{\"role\": \"system\", \"content\": relevant_system_message}] + history + [{\"role\": \"user\", \"content\": message}]\n",
    "\n",
    "    stream = openai.chat.completions.create(model=MODEL, messages=messages, stream=True)\n",
    "\n",
    "    response = \"\"\n",
    "    for chunk in stream:\n",
    "        response += chunk.choices[0].delta.content or ''\n",
    "        yield response"
   ]
  },
  {
   "cell_type": "code",
   "execution_count": 18,
   "id": "20570de2-eaad-42cc-a92c-c779d71b48b6",
   "metadata": {
    "execution": {
     "iopub.execute_input": "2025-10-17T21:11:49.272958Z",
     "iopub.status.busy": "2025-10-17T21:11:49.272530Z",
     "iopub.status.idle": "2025-10-17T21:11:49.475497Z",
     "shell.execute_reply": "2025-10-17T21:11:49.475297Z",
     "shell.execute_reply.started": "2025-10-17T21:11:49.272933Z"
    }
   },
   "outputs": [
    {
     "name": "stdout",
     "output_type": "stream",
     "text": [
      "* Running on local URL:  http://127.0.0.1:7881\n",
      "* To create a public link, set `share=True` in `launch()`.\n"
     ]
    },
    {
     "data": {
      "text/html": [
       "<div><iframe src=\"http://127.0.0.1:7881/\" width=\"100%\" height=\"500\" allow=\"autoplay; camera; microphone; clipboard-read; clipboard-write;\" frameborder=\"0\" allowfullscreen></iframe></div>"
      ],
      "text/plain": [
       "<IPython.core.display.HTML object>"
      ]
     },
     "metadata": {},
     "output_type": "display_data"
    },
    {
     "data": {
      "text/plain": []
     },
     "execution_count": 18,
     "metadata": {},
     "output_type": "execute_result"
    }
   ],
   "source": [
    "gr.ChatInterface(fn=chat, type=\"messages\").launch()"
   ]
  },
  {
   "cell_type": "markdown",
   "id": "82a57ee0-b945-48a7-a024-01b56a5d4b3e",
   "metadata": {},
   "source": [
    "<table style=\"margin: 0; text-align: left;\">\n",
    "    <tr>\n",
    "        <td style=\"width: 150px; height: 150px; vertical-align: middle;\">\n",
    "            <img src=\"../assets/business.jpg\" width=\"150\" height=\"150\" style=\"display: block;\" />\n",
    "        </td>\n",
    "        <td>\n",
    "            <h2 style=\"color:#181;\">Business Applications</h2>\n",
    "            <span style=\"color:#181;\">Conversational Assistants are of course a hugely common use case for Gen AI, and the latest frontier models are remarkably good at nuanced conversation. And Gradio makes it easy to have a user interface. Another crucial skill we covered is how to use prompting to provide context, information and examples.\n",
    "<br/><br/>\n",
    "Consider how you could apply an AI Assistant to your business, and make yourself a prototype. Use the system prompt to give context on your business, and set the tone for the LLM.</span>\n",
    "        </td>\n",
    "    </tr>\n",
    "</table>"
   ]
  },
  {
   "cell_type": "markdown",
   "id": "acc0e5a9",
   "metadata": {},
   "source": []
  }
 ],
 "metadata": {
  "kernelspec": {
   "display_name": "Python 3 (ipykernel)",
   "language": "python",
   "name": "python3"
  },
  "language_info": {
   "codemirror_mode": {
    "name": "ipython",
    "version": 3
   },
   "file_extension": ".py",
   "mimetype": "text/x-python",
   "name": "python",
   "nbconvert_exporter": "python",
   "pygments_lexer": "ipython3",
   "version": "3.11.13"
  }
 },
 "nbformat": 4,
 "nbformat_minor": 5
}
